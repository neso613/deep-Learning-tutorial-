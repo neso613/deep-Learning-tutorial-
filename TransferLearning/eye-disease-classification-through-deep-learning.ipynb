{
 "cells": [
  {
   "cell_type": "code",
   "execution_count": 1,
   "metadata": {
    "_cell_guid": "b1076dfc-b9ad-4769-8c92-a6c4dae69d19",
    "_uuid": "8f2839f25d086af736a60e9eeb907d3b93b6e0e5"
   },
   "outputs": [],
   "source": [
    "# This Python 3 environment comes with many helpful analytics libraries installed\n",
    "# It is defined by the kaggle/python docker image: https://github.com/kaggle/docker-python\n",
    "# For example, here's several helpful packages to load in \n",
    "\n",
    "import numpy as np # linear algebra\n",
    "import pandas as pd # data processing, CSV file I/O (e.g. pd.read_csv)\n",
    "\n",
    "# Input data files are available in the \"../input/\" directory.\n",
    "# For example, running this (by clicking run or pressing Shift+Enter) will list all files under the input directory\n",
    "\n",
    "import os\n",
    "# for dirname, _, filenames in os.walk('/input'):\n",
    "#     for filename in filenames:\n",
    "#         print(os.path.join(dirname, filename))\n",
    "\n",
    "# Any results you write to the current directory are saved as output."
   ]
  },
  {
   "cell_type": "markdown",
   "metadata": {},
   "source": [
    "Hi everyone,\n",
    "\n",
    "Here i have used Tensorflow keras CNN model in this kernal to predict 5 class label in dataset for eye disease classification."
   ]
  },
  {
   "cell_type": "markdown",
   "metadata": {},
   "source": [
    "First of all import all the necessary libraries "
   ]
  },
  {
   "cell_type": "code",
   "execution_count": 2,
   "metadata": {
    "_cell_guid": "79c7e3d0-c299-4dcb-8224-4455121ee9b0",
    "_uuid": "d629ff2d2480ee46fbb7e2d37f6b5fab8052498a"
   },
   "outputs": [
    {
     "name": "stderr",
     "output_type": "stream",
     "text": [
      "Using TensorFlow backend.\n"
     ]
    }
   ],
   "source": [
    "import matplotlib.pyplot as plt\n",
    "from sklearn.preprocessing import LabelEncoder\n",
    "import cv2\n",
    "from sklearn.model_selection import train_test_split\n",
    "from sklearn.utils import shuffle\n",
    "\n",
    "from tensorflow.keras.models import Sequential\n",
    "from tensorflow.keras.layers import Dense,Dropout,Flatten\n",
    "from tensorflow.keras.layers import Conv2D,MaxPool2D\n",
    "from tensorflow.keras.layers import Input, Dense\n",
    "from keras.utils import to_categorical\n",
    "from tensorflow.keras.models import Model\n",
    "from tensorflow.keras.preprocessing.image import ImageDataGenerator\n",
    "from sklearn.metrics import confusion_matrix\n",
    "import matplotlib.pyplot as plt\n",
    "\n",
    "from tensorflow.keras.applications.vgg16 import VGG16\n",
    "import pandas as pd\n",
    "import numpy as np\n",
    "import os\n",
    "from numpy import argmax\n"
   ]
  },
  {
   "cell_type": "markdown",
   "metadata": {},
   "source": [
    "Now here read all the directories available in eye disease folder"
   ]
  },
  {
   "cell_type": "code",
   "execution_count": 3,
   "metadata": {},
   "outputs": [
    {
     "data": {
      "text/plain": [
       "['Bulging_Eyes', 'Uveitis', 'Cataracts', 'Glaucoma', 'Crossed_Eyes']"
      ]
     },
     "execution_count": 3,
     "metadata": {},
     "output_type": "execute_result"
    }
   ],
   "source": [
    "PATH = \"/kaggle/input/eye-disease-dataset/Eye_diseases\"\n",
    "data_dir_list = os.listdir(PATH)\n",
    "data_dir_list"
   ]
  },
  {
   "cell_type": "markdown",
   "metadata": {},
   "source": [
    "Now here we'll prepare data to feed into the model. first read all the images from the dataset and resize it with specific size and prepare all the image data list for multiple folder with  target column."
   ]
  },
  {
   "cell_type": "code",
   "execution_count": 4,
   "metadata": {},
   "outputs": [
    {
     "name": "stdout",
     "output_type": "stream",
     "text": [
      "Getting image from Bulging_Eyes folder\n",
      "Getting image from Uveitis folder\n",
      "Getting image from Cataracts folder\n",
      "Getting image from Glaucoma folder\n",
      "Getting image from Crossed_Eyes folder\n"
     ]
    }
   ],
   "source": [
    "img_rows=224\n",
    "img_cols=224\n",
    "num_channel=3\n",
    "\n",
    "num_epoch = 50\n",
    "batch_size = 32\n",
    "\n",
    "img_data_list=[]\n",
    "classes_names_list=[]\n",
    "target_column=[]\n",
    "for dataset in data_dir_list:\n",
    "    classes_names_list.append(dataset)\n",
    "    print(\"Getting image from {} folder\".format(dataset))\n",
    "    img_list= os.listdir(PATH +\"/\"+ dataset)\n",
    "    for img in img_list:\n",
    "        input_img = cv2.imread(PATH +\"/\"+dataset+\"/\"+img)\n",
    "        input_img_resize=cv2.resize(input_img,(img_rows,img_cols))\n",
    "        img_data_list.append(input_img_resize)\n",
    "        target_column.append(dataset)"
   ]
  },
  {
   "cell_type": "code",
   "execution_count": 5,
   "metadata": {},
   "outputs": [
    {
     "name": "stdout",
     "output_type": "stream",
     "text": [
      "num_classes 5\n",
      "Shape of image data (383, 224, 224, 3)\n",
      "number of samples 383\n",
      "target column before encoding ['Bulging_Eyes', 'Bulging_Eyes', 'Bulging_Eyes', 'Bulging_Eyes', 'Bulging_Eyes', 'Bulging_Eyes', 'Bulging_Eyes', 'Bulging_Eyes', 'Bulging_Eyes', 'Bulging_Eyes', 'Bulging_Eyes', 'Bulging_Eyes', 'Bulging_Eyes', 'Bulging_Eyes', 'Bulging_Eyes', 'Bulging_Eyes', 'Bulging_Eyes', 'Bulging_Eyes', 'Bulging_Eyes', 'Bulging_Eyes', 'Bulging_Eyes', 'Bulging_Eyes', 'Bulging_Eyes', 'Bulging_Eyes', 'Bulging_Eyes', 'Bulging_Eyes', 'Bulging_Eyes', 'Bulging_Eyes', 'Bulging_Eyes', 'Bulging_Eyes', 'Uveitis', 'Uveitis', 'Uveitis', 'Uveitis', 'Uveitis', 'Uveitis', 'Uveitis', 'Uveitis', 'Uveitis', 'Uveitis', 'Uveitis', 'Uveitis', 'Uveitis', 'Uveitis', 'Uveitis', 'Uveitis', 'Uveitis', 'Uveitis', 'Uveitis', 'Uveitis', 'Uveitis', 'Uveitis', 'Uveitis', 'Uveitis', 'Uveitis', 'Uveitis', 'Uveitis', 'Uveitis', 'Uveitis', 'Uveitis', 'Uveitis', 'Uveitis', 'Uveitis', 'Uveitis', 'Uveitis', 'Uveitis', 'Uveitis', 'Uveitis', 'Uveitis', 'Uveitis', 'Uveitis', 'Uveitis', 'Uveitis', 'Uveitis', 'Uveitis', 'Uveitis', 'Uveitis', 'Uveitis', 'Uveitis', 'Uveitis', 'Cataracts', 'Cataracts', 'Cataracts', 'Cataracts', 'Cataracts', 'Cataracts', 'Cataracts', 'Cataracts', 'Cataracts', 'Cataracts', 'Cataracts', 'Cataracts', 'Cataracts', 'Cataracts', 'Cataracts', 'Cataracts', 'Cataracts', 'Cataracts', 'Cataracts', 'Cataracts', 'Cataracts', 'Cataracts', 'Cataracts', 'Cataracts', 'Cataracts', 'Cataracts', 'Cataracts', 'Cataracts', 'Cataracts', 'Cataracts', 'Cataracts', 'Cataracts', 'Cataracts', 'Cataracts', 'Cataracts', 'Cataracts', 'Cataracts', 'Cataracts', 'Cataracts', 'Cataracts', 'Cataracts', 'Cataracts', 'Cataracts', 'Cataracts', 'Cataracts', 'Cataracts', 'Cataracts', 'Glaucoma', 'Glaucoma', 'Glaucoma', 'Glaucoma', 'Glaucoma', 'Glaucoma', 'Glaucoma', 'Glaucoma', 'Glaucoma', 'Glaucoma', 'Glaucoma', 'Glaucoma', 'Glaucoma', 'Glaucoma', 'Glaucoma', 'Glaucoma', 'Glaucoma', 'Glaucoma', 'Glaucoma', 'Glaucoma', 'Glaucoma', 'Glaucoma', 'Glaucoma', 'Glaucoma', 'Glaucoma', 'Glaucoma', 'Glaucoma', 'Glaucoma', 'Glaucoma', 'Glaucoma', 'Glaucoma', 'Glaucoma', 'Glaucoma', 'Glaucoma', 'Glaucoma', 'Glaucoma', 'Glaucoma', 'Glaucoma', 'Glaucoma', 'Glaucoma', 'Glaucoma', 'Glaucoma', 'Glaucoma', 'Glaucoma', 'Glaucoma', 'Glaucoma', 'Glaucoma', 'Glaucoma', 'Glaucoma', 'Glaucoma', 'Glaucoma', 'Glaucoma', 'Glaucoma', 'Glaucoma', 'Glaucoma', 'Glaucoma', 'Glaucoma', 'Glaucoma', 'Glaucoma', 'Glaucoma', 'Glaucoma', 'Glaucoma', 'Glaucoma', 'Glaucoma', 'Glaucoma', 'Glaucoma', 'Glaucoma', 'Glaucoma', 'Glaucoma', 'Glaucoma', 'Glaucoma', 'Glaucoma', 'Glaucoma', 'Glaucoma', 'Glaucoma', 'Glaucoma', 'Glaucoma', 'Glaucoma', 'Glaucoma', 'Glaucoma', 'Glaucoma', 'Glaucoma', 'Crossed_Eyes', 'Crossed_Eyes', 'Crossed_Eyes', 'Crossed_Eyes', 'Crossed_Eyes', 'Crossed_Eyes', 'Crossed_Eyes', 'Crossed_Eyes', 'Crossed_Eyes', 'Crossed_Eyes', 'Crossed_Eyes', 'Crossed_Eyes', 'Crossed_Eyes', 'Crossed_Eyes', 'Crossed_Eyes', 'Crossed_Eyes', 'Crossed_Eyes', 'Crossed_Eyes', 'Crossed_Eyes', 'Crossed_Eyes', 'Crossed_Eyes', 'Crossed_Eyes', 'Crossed_Eyes', 'Crossed_Eyes', 'Crossed_Eyes', 'Crossed_Eyes', 'Crossed_Eyes', 'Crossed_Eyes', 'Crossed_Eyes', 'Crossed_Eyes', 'Crossed_Eyes', 'Crossed_Eyes', 'Crossed_Eyes', 'Crossed_Eyes', 'Crossed_Eyes', 'Crossed_Eyes', 'Crossed_Eyes', 'Crossed_Eyes', 'Crossed_Eyes', 'Crossed_Eyes', 'Crossed_Eyes', 'Crossed_Eyes', 'Crossed_Eyes', 'Crossed_Eyes', 'Crossed_Eyes', 'Crossed_Eyes', 'Crossed_Eyes', 'Crossed_Eyes', 'Crossed_Eyes', 'Crossed_Eyes', 'Crossed_Eyes', 'Crossed_Eyes', 'Crossed_Eyes', 'Crossed_Eyes', 'Crossed_Eyes', 'Crossed_Eyes', 'Crossed_Eyes', 'Crossed_Eyes', 'Crossed_Eyes', 'Crossed_Eyes', 'Crossed_Eyes', 'Crossed_Eyes', 'Crossed_Eyes', 'Crossed_Eyes', 'Crossed_Eyes', 'Crossed_Eyes', 'Crossed_Eyes', 'Crossed_Eyes', 'Crossed_Eyes', 'Crossed_Eyes', 'Crossed_Eyes', 'Crossed_Eyes', 'Crossed_Eyes', 'Crossed_Eyes', 'Crossed_Eyes', 'Crossed_Eyes', 'Crossed_Eyes', 'Crossed_Eyes', 'Crossed_Eyes', 'Crossed_Eyes', 'Crossed_Eyes', 'Crossed_Eyes', 'Crossed_Eyes', 'Crossed_Eyes', 'Crossed_Eyes', 'Crossed_Eyes', 'Crossed_Eyes', 'Crossed_Eyes', 'Crossed_Eyes', 'Crossed_Eyes', 'Crossed_Eyes', 'Crossed_Eyes', 'Crossed_Eyes', 'Crossed_Eyes', 'Crossed_Eyes', 'Crossed_Eyes', 'Crossed_Eyes', 'Crossed_Eyes', 'Crossed_Eyes', 'Crossed_Eyes', 'Crossed_Eyes', 'Crossed_Eyes', 'Crossed_Eyes', 'Crossed_Eyes', 'Crossed_Eyes', 'Crossed_Eyes', 'Crossed_Eyes', 'Crossed_Eyes', 'Crossed_Eyes', 'Crossed_Eyes', 'Crossed_Eyes', 'Crossed_Eyes', 'Crossed_Eyes', 'Crossed_Eyes', 'Crossed_Eyes', 'Crossed_Eyes', 'Crossed_Eyes', 'Crossed_Eyes', 'Crossed_Eyes', 'Crossed_Eyes', 'Crossed_Eyes', 'Crossed_Eyes', 'Crossed_Eyes', 'Crossed_Eyes', 'Crossed_Eyes', 'Crossed_Eyes', 'Crossed_Eyes', 'Crossed_Eyes', 'Crossed_Eyes', 'Crossed_Eyes', 'Crossed_Eyes', 'Crossed_Eyes', 'Crossed_Eyes', 'Crossed_Eyes', 'Crossed_Eyes', 'Crossed_Eyes', 'Crossed_Eyes', 'Crossed_Eyes', 'Crossed_Eyes', 'Crossed_Eyes', 'Crossed_Eyes', 'Crossed_Eyes', 'Crossed_Eyes', 'Crossed_Eyes', 'Crossed_Eyes', 'Crossed_Eyes', 'Crossed_Eyes', 'Crossed_Eyes', 'Crossed_Eyes', 'Crossed_Eyes', 'Crossed_Eyes', 'Crossed_Eyes', 'Crossed_Eyes', 'Crossed_Eyes', 'Crossed_Eyes', 'Crossed_Eyes', 'Crossed_Eyes', 'Crossed_Eyes', 'Crossed_Eyes', 'Crossed_Eyes', 'Crossed_Eyes', 'Crossed_Eyes', 'Crossed_Eyes', 'Crossed_Eyes', 'Crossed_Eyes', 'Crossed_Eyes', 'Crossed_Eyes', 'Crossed_Eyes', 'Crossed_Eyes', 'Crossed_Eyes', 'Crossed_Eyes', 'Crossed_Eyes', 'Crossed_Eyes', 'Crossed_Eyes']\n"
     ]
    }
   ],
   "source": [
    "num_classes = len(classes_names_list)\n",
    "print(\"num_classes\",num_classes)\n",
    "img_data = np.array(img_data_list) # convert images in numpy array \n",
    "img_data = img_data.astype('float32')\n",
    "img_data /= 255\n",
    "print(\"Shape of image data\",img_data.shape)\n",
    "num_of_samples = img_data.shape[0]\n",
    "input_shape = img_data[0].shape \n",
    "print(\"number of samples\",num_of_samples)\n",
    "print(\"target column before encoding\",target_column)"
   ]
  },
  {
   "cell_type": "markdown",
   "metadata": {},
   "source": [
    "Here encode the target column becuase we can't use string in model. so here we are using label encoder to encode target column."
   ]
  },
  {
   "cell_type": "code",
   "execution_count": 6,
   "metadata": {},
   "outputs": [
    {
     "data": {
      "text/plain": [
       "array([0, 1, 2, 3, 4])"
      ]
     },
     "execution_count": 6,
     "metadata": {},
     "output_type": "execute_result"
    }
   ],
   "source": [
    "Labelencoder = LabelEncoder()\n",
    "target_column = Labelencoder.fit_transform(target_column)\n",
    "np.unique(target_column)"
   ]
  },
  {
   "cell_type": "markdown",
   "metadata": {},
   "source": [
    "Now check the target column value after the encoding"
   ]
  },
  {
   "cell_type": "code",
   "execution_count": 7,
   "metadata": {},
   "outputs": [
    {
     "data": {
      "text/plain": [
       "array([0, 0, 0, 0, 0, 0, 0, 0, 0, 0, 0, 0, 0, 0, 0, 0, 0, 0, 0, 0, 0, 0,\n",
       "       0, 0, 0, 0, 0, 0, 0, 0, 4, 4, 4, 4, 4, 4, 4, 4, 4, 4, 4, 4, 4, 4,\n",
       "       4, 4, 4, 4, 4, 4, 4, 4, 4, 4, 4, 4, 4, 4, 4, 4, 4, 4, 4, 4, 4, 4,\n",
       "       4, 4, 4, 4, 4, 4, 4, 4, 4, 4, 4, 4, 4, 4, 1, 1, 1, 1, 1, 1, 1, 1,\n",
       "       1, 1, 1, 1, 1, 1, 1, 1, 1, 1, 1, 1, 1, 1, 1, 1, 1, 1, 1, 1, 1, 1,\n",
       "       1, 1, 1, 1, 1, 1, 1, 1, 1, 1, 1, 1, 1, 1, 1, 1, 1, 3, 3, 3, 3, 3,\n",
       "       3, 3, 3, 3, 3, 3, 3, 3, 3, 3, 3, 3, 3, 3, 3, 3, 3, 3, 3, 3, 3, 3,\n",
       "       3, 3, 3, 3, 3, 3, 3, 3, 3, 3, 3, 3, 3, 3, 3, 3, 3, 3, 3, 3, 3, 3,\n",
       "       3, 3, 3, 3, 3, 3, 3, 3, 3, 3, 3, 3, 3, 3, 3, 3, 3, 3, 3, 3, 3, 3,\n",
       "       3, 3, 3, 3, 3, 3, 3, 3, 3, 3, 3, 2, 2, 2, 2, 2, 2, 2, 2, 2, 2, 2,\n",
       "       2, 2, 2, 2, 2, 2, 2, 2, 2, 2, 2, 2, 2, 2, 2, 2, 2, 2, 2, 2, 2, 2,\n",
       "       2, 2, 2, 2, 2, 2, 2, 2, 2, 2, 2, 2, 2, 2, 2, 2, 2, 2, 2, 2, 2, 2,\n",
       "       2, 2, 2, 2, 2, 2, 2, 2, 2, 2, 2, 2, 2, 2, 2, 2, 2, 2, 2, 2, 2, 2,\n",
       "       2, 2, 2, 2, 2, 2, 2, 2, 2, 2, 2, 2, 2, 2, 2, 2, 2, 2, 2, 2, 2, 2,\n",
       "       2, 2, 2, 2, 2, 2, 2, 2, 2, 2, 2, 2, 2, 2, 2, 2, 2, 2, 2, 2, 2, 2,\n",
       "       2, 2, 2, 2, 2, 2, 2, 2, 2, 2, 2, 2, 2, 2, 2, 2, 2, 2, 2, 2, 2, 2,\n",
       "       2, 2, 2, 2, 2, 2, 2, 2, 2, 2, 2, 2, 2, 2, 2, 2, 2, 2, 2, 2, 2, 2,\n",
       "       2, 2, 2, 2, 2, 2, 2, 2, 2])"
      ]
     },
     "execution_count": 7,
     "metadata": {},
     "output_type": "execute_result"
    }
   ],
   "source": [
    "target_column"
   ]
  },
  {
   "cell_type": "markdown",
   "metadata": {},
   "source": [
    "Now lets split data with validation split equal to 30% from training data. Validation split is used to determine that our model is not geting over-fitted."
   ]
  },
  {
   "cell_type": "code",
   "execution_count": 8,
   "metadata": {},
   "outputs": [],
   "source": [
    "target_column_hotcoded = to_categorical(target_column,num_classes)\n",
    "X,Y = shuffle(img_data,target_column_hotcoded,random_state=2)\n",
    "X_train,X_temp,y_train,y_temp = train_test_split(X,Y,test_size=0.3,random_state=2)\n",
    "X_test,X_val,y_test,y_val = train_test_split(X_temp,y_temp,test_size=0.3,random_state=2)"
   ]
  },
  {
   "cell_type": "markdown",
   "metadata": {},
   "source": [
    "Create CNN Model to predict class label for eye disease"
   ]
  },
  {
   "cell_type": "code",
   "execution_count": 9,
   "metadata": {},
   "outputs": [
    {
     "name": "stdout",
     "output_type": "stream",
     "text": [
      "Model: \"sequential\"\n",
      "_________________________________________________________________\n",
      "Layer (type)                 Output Shape              Param #   \n",
      "=================================================================\n",
      "conv2d (Conv2D)              (None, 222, 222, 64)      1792      \n",
      "_________________________________________________________________\n",
      "conv2d_1 (Conv2D)            (None, 220, 220, 64)      36928     \n",
      "_________________________________________________________________\n",
      "max_pooling2d (MaxPooling2D) (None, 110, 110, 64)      0         \n",
      "_________________________________________________________________\n",
      "dropout (Dropout)            (None, 110, 110, 64)      0         \n",
      "_________________________________________________________________\n",
      "conv2d_2 (Conv2D)            (None, 108, 108, 128)     73856     \n",
      "_________________________________________________________________\n",
      "conv2d_3 (Conv2D)            (None, 106, 106, 128)     147584    \n",
      "_________________________________________________________________\n",
      "max_pooling2d_1 (MaxPooling2 (None, 53, 53, 128)       0         \n",
      "_________________________________________________________________\n",
      "dropout_1 (Dropout)          (None, 53, 53, 128)       0         \n",
      "_________________________________________________________________\n",
      "flatten (Flatten)            (None, 359552)            0         \n",
      "_________________________________________________________________\n",
      "dense (Dense)                (None, 128)               46022784  \n",
      "_________________________________________________________________\n",
      "dropout_2 (Dropout)          (None, 128)               0         \n",
      "_________________________________________________________________\n",
      "dense_1 (Dense)              (None, 5)                 645       \n",
      "=================================================================\n",
      "Total params: 46,283,589\n",
      "Trainable params: 46,283,589\n",
      "Non-trainable params: 0\n",
      "_________________________________________________________________\n"
     ]
    }
   ],
   "source": [
    "first_Mod = Sequential()\n",
    "\n",
    "first_Mod.add(Conv2D(64,(3,3),activation='relu',input_shape=input_shape))\n",
    "first_Mod.add(Conv2D(64,(3,3),activation='relu'))\n",
    "first_Mod.add(MaxPool2D(pool_size=(2,2)))\n",
    "first_Mod.add(Dropout(0.2))\n",
    "\n",
    "first_Mod.add(Conv2D(128,(3,3),activation='relu'))\n",
    "first_Mod.add(Conv2D(128,(3,3),activation='relu'))\n",
    "first_Mod.add(MaxPool2D(pool_size=(2,2)))\n",
    "first_Mod.add(Dropout(0.2))\n",
    "\n",
    "first_Mod.add(Flatten())\n",
    "first_Mod.add(Dense(128,activation='relu'))\n",
    "first_Mod.add(Dropout(0.2))\n",
    "first_Mod.add(Dense(num_classes,activation='softmax'))\n",
    "first_Mod.compile(loss='categorical_crossentropy',optimizer='adam',metrics=['accuracy'])\n",
    "\n",
    "first_Mod.summary()"
   ]
  },
  {
   "cell_type": "markdown",
   "metadata": {},
   "source": [
    "Now fit the data in the model and evaluate the model accuracy and Loss."
   ]
  },
  {
   "cell_type": "code",
   "execution_count": 10,
   "metadata": {},
   "outputs": [
    {
     "name": "stdout",
     "output_type": "stream",
     "text": [
      "Train on 268 samples, validate on 80 samples\n",
      "Epoch 1/50\n",
      "268/268 [==============================] - 89s 333ms/sample - loss: 4.8566 - accuracy: 0.3396 - val_loss: 1.4378 - val_accuracy: 0.3000\n",
      "Epoch 2/50\n",
      "268/268 [==============================] - 88s 329ms/sample - loss: 1.4759 - accuracy: 0.3993 - val_loss: 1.4030 - val_accuracy: 0.4375\n",
      "Epoch 3/50\n",
      "268/268 [==============================] - 88s 328ms/sample - loss: 1.4496 - accuracy: 0.4067 - val_loss: 1.3902 - val_accuracy: 0.4375\n",
      "Epoch 4/50\n",
      "268/268 [==============================] - 89s 331ms/sample - loss: 1.4153 - accuracy: 0.4590 - val_loss: 1.4238 - val_accuracy: 0.4375\n",
      "Epoch 5/50\n",
      "268/268 [==============================] - 87s 325ms/sample - loss: 1.3929 - accuracy: 0.4478 - val_loss: 1.3970 - val_accuracy: 0.4375\n",
      "Epoch 6/50\n",
      "268/268 [==============================] - 88s 328ms/sample - loss: 1.3568 - accuracy: 0.4552 - val_loss: 1.3185 - val_accuracy: 0.4375\n",
      "Epoch 7/50\n",
      "268/268 [==============================] - 88s 328ms/sample - loss: 1.3507 - accuracy: 0.4701 - val_loss: 1.3466 - val_accuracy: 0.5250\n",
      "Epoch 8/50\n",
      "268/268 [==============================] - 88s 327ms/sample - loss: 1.2754 - accuracy: 0.4739 - val_loss: 1.3260 - val_accuracy: 0.4750\n",
      "Epoch 9/50\n",
      "268/268 [==============================] - 87s 325ms/sample - loss: 1.2305 - accuracy: 0.4851 - val_loss: 1.2792 - val_accuracy: 0.5000\n",
      "Epoch 10/50\n",
      "268/268 [==============================] - 88s 329ms/sample - loss: 1.1501 - accuracy: 0.5336 - val_loss: 1.1930 - val_accuracy: 0.5500\n",
      "Epoch 11/50\n",
      "268/268 [==============================] - 87s 326ms/sample - loss: 0.9649 - accuracy: 0.6045 - val_loss: 1.2323 - val_accuracy: 0.5875\n",
      "Epoch 12/50\n",
      "268/268 [==============================] - 87s 325ms/sample - loss: 0.7217 - accuracy: 0.7090 - val_loss: 1.9346 - val_accuracy: 0.5125\n",
      "Epoch 13/50\n",
      "268/268 [==============================] - 88s 328ms/sample - loss: 0.6521 - accuracy: 0.7910 - val_loss: 2.0020 - val_accuracy: 0.4750\n",
      "Epoch 14/50\n",
      "268/268 [==============================] - 88s 330ms/sample - loss: 0.4754 - accuracy: 0.7948 - val_loss: 2.2507 - val_accuracy: 0.5125\n",
      "Epoch 15/50\n",
      "268/268 [==============================] - 88s 328ms/sample - loss: 0.3127 - accuracy: 0.9179 - val_loss: 3.6125 - val_accuracy: 0.4875\n",
      "Epoch 16/50\n",
      "268/268 [==============================] - 87s 323ms/sample - loss: 0.2512 - accuracy: 0.9216 - val_loss: 3.1306 - val_accuracy: 0.5375\n",
      "Epoch 17/50\n",
      "268/268 [==============================] - 88s 330ms/sample - loss: 0.1659 - accuracy: 0.9403 - val_loss: 2.9150 - val_accuracy: 0.5000\n",
      "Epoch 18/50\n",
      "268/268 [==============================] - 87s 323ms/sample - loss: 0.2238 - accuracy: 0.9403 - val_loss: 2.6286 - val_accuracy: 0.5000\n",
      "Epoch 19/50\n",
      "268/268 [==============================] - 87s 326ms/sample - loss: 0.1926 - accuracy: 0.9478 - val_loss: 3.6513 - val_accuracy: 0.5125\n",
      "Epoch 20/50\n",
      "268/268 [==============================] - 87s 324ms/sample - loss: 0.1860 - accuracy: 0.9478 - val_loss: 2.3857 - val_accuracy: 0.4500\n",
      "Epoch 21/50\n",
      "268/268 [==============================] - 88s 329ms/sample - loss: 0.1214 - accuracy: 0.9664 - val_loss: 3.6357 - val_accuracy: 0.4875\n",
      "Epoch 22/50\n",
      "268/268 [==============================] - 87s 323ms/sample - loss: 0.1419 - accuracy: 0.9664 - val_loss: 3.2683 - val_accuracy: 0.5125\n",
      "Epoch 23/50\n",
      "268/268 [==============================] - 87s 326ms/sample - loss: 0.1253 - accuracy: 0.9627 - val_loss: 4.0335 - val_accuracy: 0.4125\n",
      "Epoch 24/50\n",
      "268/268 [==============================] - 87s 326ms/sample - loss: 0.0946 - accuracy: 0.9664 - val_loss: 4.0493 - val_accuracy: 0.5500\n",
      "Epoch 25/50\n",
      "268/268 [==============================] - 87s 324ms/sample - loss: 0.0946 - accuracy: 0.9813 - val_loss: 5.2197 - val_accuracy: 0.4750\n",
      "Epoch 26/50\n",
      "268/268 [==============================] - 88s 327ms/sample - loss: 0.0936 - accuracy: 0.9739 - val_loss: 3.9627 - val_accuracy: 0.4625\n",
      "Epoch 27/50\n",
      "268/268 [==============================] - 87s 323ms/sample - loss: 0.1243 - accuracy: 0.9664 - val_loss: 3.1085 - val_accuracy: 0.4500\n",
      "Epoch 28/50\n",
      "268/268 [==============================] - 88s 328ms/sample - loss: 0.0642 - accuracy: 0.9851 - val_loss: 4.7634 - val_accuracy: 0.5000\n",
      "Epoch 29/50\n",
      "268/268 [==============================] - 87s 323ms/sample - loss: 0.0646 - accuracy: 0.9851 - val_loss: 5.7752 - val_accuracy: 0.4875\n",
      "Epoch 30/50\n",
      "268/268 [==============================] - 88s 327ms/sample - loss: 0.0188 - accuracy: 0.9925 - val_loss: 6.2073 - val_accuracy: 0.4875\n",
      "Epoch 31/50\n",
      "268/268 [==============================] - 87s 325ms/sample - loss: 0.0405 - accuracy: 0.9888 - val_loss: 5.2179 - val_accuracy: 0.5375\n",
      "Epoch 32/50\n",
      "268/268 [==============================] - 89s 330ms/sample - loss: 0.0434 - accuracy: 0.9851 - val_loss: 8.3406 - val_accuracy: 0.4750\n",
      "Epoch 33/50\n",
      "268/268 [==============================] - 87s 326ms/sample - loss: 0.0260 - accuracy: 0.9963 - val_loss: 5.5603 - val_accuracy: 0.5125\n",
      "Epoch 34/50\n",
      "268/268 [==============================] - 88s 330ms/sample - loss: 0.0649 - accuracy: 0.9813 - val_loss: 5.0185 - val_accuracy: 0.4375\n",
      "Epoch 35/50\n",
      "268/268 [==============================] - 88s 329ms/sample - loss: 0.0225 - accuracy: 0.9963 - val_loss: 5.4445 - val_accuracy: 0.4250\n",
      "Epoch 36/50\n",
      "268/268 [==============================] - 87s 326ms/sample - loss: 0.0187 - accuracy: 0.9925 - val_loss: 7.3279 - val_accuracy: 0.4625\n",
      "Epoch 37/50\n",
      "268/268 [==============================] - 88s 329ms/sample - loss: 0.0464 - accuracy: 0.9851 - val_loss: 5.7854 - val_accuracy: 0.4250\n",
      "Epoch 38/50\n",
      "268/268 [==============================] - 87s 325ms/sample - loss: 0.0271 - accuracy: 0.9925 - val_loss: 6.4570 - val_accuracy: 0.4750\n",
      "Epoch 39/50\n",
      "268/268 [==============================] - 88s 330ms/sample - loss: 0.0285 - accuracy: 0.9925 - val_loss: 10.5143 - val_accuracy: 0.4750\n",
      "Epoch 40/50\n",
      "268/268 [==============================] - 88s 329ms/sample - loss: 0.0351 - accuracy: 0.9925 - val_loss: 7.6662 - val_accuracy: 0.4750\n",
      "Epoch 41/50\n",
      "268/268 [==============================] - 87s 326ms/sample - loss: 0.0193 - accuracy: 0.9963 - val_loss: 6.0427 - val_accuracy: 0.4625\n",
      "Epoch 42/50\n",
      "268/268 [==============================] - 87s 326ms/sample - loss: 0.0253 - accuracy: 0.9888 - val_loss: 6.4403 - val_accuracy: 0.4625\n",
      "Epoch 43/50\n",
      "268/268 [==============================] - 88s 330ms/sample - loss: 0.0127 - accuracy: 0.9925 - val_loss: 7.5732 - val_accuracy: 0.4625\n",
      "Epoch 44/50\n",
      "268/268 [==============================] - 87s 324ms/sample - loss: 0.0476 - accuracy: 0.9851 - val_loss: 6.7815 - val_accuracy: 0.4375\n",
      "Epoch 45/50\n",
      "268/268 [==============================] - 90s 336ms/sample - loss: 0.0710 - accuracy: 0.9963 - val_loss: 4.1924 - val_accuracy: 0.4875\n",
      "Epoch 46/50\n",
      "268/268 [==============================] - 88s 327ms/sample - loss: 0.0228 - accuracy: 0.9925 - val_loss: 5.1012 - val_accuracy: 0.4500\n",
      "Epoch 47/50\n",
      "268/268 [==============================] - 88s 328ms/sample - loss: 0.0819 - accuracy: 0.9739 - val_loss: 8.3433 - val_accuracy: 0.4875\n",
      "Epoch 48/50\n",
      "268/268 [==============================] - 87s 325ms/sample - loss: 0.0121 - accuracy: 0.9963 - val_loss: 7.2717 - val_accuracy: 0.4375\n",
      "Epoch 49/50\n",
      "268/268 [==============================] - 88s 327ms/sample - loss: 0.1618 - accuracy: 0.9739 - val_loss: 4.4736 - val_accuracy: 0.4375\n",
      "Epoch 50/50\n",
      "268/268 [==============================] - 88s 327ms/sample - loss: 0.0984 - accuracy: 0.9776 - val_loss: 4.4618 - val_accuracy: 0.4500\n",
      "80/80 [==============================] - 6s 71ms/sample - loss: 4.4618 - accuracy: 0.4500\n",
      "Test Loss 4.4617767333984375\n",
      "Test Accuracy 0.45\n"
     ]
    }
   ],
   "source": [
    "hist = first_Mod.fit(X_train,y_train,batch_size=batch_size,epochs=num_epoch,verbose=1,validation_data=(X_test,y_test))\n",
    "score = first_Mod.evaluate(X_test,y_test,batch_size=batch_size)\n",
    "print('Test Loss',score[0])\n",
    "print(\"Test Accuracy\",score[1])"
   ]
  },
  {
   "cell_type": "code",
   "execution_count": null,
   "metadata": {},
   "outputs": [],
   "source": []
  },
  {
   "cell_type": "code",
   "execution_count": null,
   "metadata": {},
   "outputs": [],
   "source": []
  },
  {
   "cell_type": "code",
   "execution_count": null,
   "metadata": {},
   "outputs": [],
   "source": []
  }
 ],
 "metadata": {
  "kernelspec": {
   "display_name": "Python 3",
   "language": "python",
   "name": "python3"
  },
  "language_info": {
   "codemirror_mode": {
    "name": "ipython",
    "version": 3
   },
   "file_extension": ".py",
   "mimetype": "text/x-python",
   "name": "python",
   "nbconvert_exporter": "python",
   "pygments_lexer": "ipython3",
   "version": "3.6.6"
  }
 },
 "nbformat": 4,
 "nbformat_minor": 1
}
