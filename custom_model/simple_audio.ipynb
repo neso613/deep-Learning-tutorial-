{
 "cells": [
  {
   "cell_type": "code",
   "execution_count": 2,
   "metadata": {
    "execution": {
     "iopub.execute_input": "2022-01-26T08:04:40.945813Z",
     "iopub.status.busy": "2022-01-26T08:04:40.945133Z",
     "iopub.status.idle": "2022-01-26T08:04:44.130549Z",
     "shell.execute_reply": "2022-01-26T08:04:44.129979Z"
    },
    "id": "dzLKpmZICaWN"
   },
   "outputs": [],
   "source": [
    "import os\n",
    "import pathlib\n",
    "\n",
    "import matplotlib.pyplot as plt\n",
    "import numpy as np\n",
    "import seaborn as sns\n",
    "import tensorflow as tf\n",
    "\n",
    "from tensorflow.keras import layers\n",
    "from tensorflow.keras import models\n",
    "from IPython import display\n",
    "\n",
    "# Set the seed value for experiment reproducibility.\n",
    "seed = 42\n",
    "tf.random.set_seed(seed)\n",
    "np.random.seed(seed)"
   ]
  },
  {
   "cell_type": "code",
   "execution_count": 3,
   "metadata": {
    "execution": {
     "iopub.execute_input": "2022-01-26T08:04:44.137929Z",
     "iopub.status.busy": "2022-01-26T08:04:44.137174Z",
     "iopub.status.idle": "2022-01-26T08:04:49.307392Z",
     "shell.execute_reply": "2022-01-26T08:04:49.306742Z"
    },
    "id": "2-rayb7-3Y0I"
   },
   "outputs": [
    {
     "name": "stdout",
     "output_type": "stream",
     "text": [
      "Downloading data from http://storage.googleapis.com/download.tensorflow.org/data/mini_speech_commands.zip\n",
      "182083584/182082353 [==============================] - 1s 0us/step\n",
      "182091776/182082353 [==============================] - 1s 0us/step\n"
     ]
    }
   ],
   "source": [
    "DATASET_PATH = 'data/mini_speech_commands'\n",
    "\n",
    "data_dir = pathlib.Path(DATASET_PATH)\n",
    "if not data_dir.exists():\n",
    "    tf.keras.utils.get_file(\n",
    "      'mini_speech_commands.zip',\n",
    "      origin=\"http://storage.googleapis.com/download.tensorflow.org/data/mini_speech_commands.zip\",\n",
    "      extract=True,\n",
    "      cache_dir='.', cache_subdir='data')"
   ]
  },
  {
   "cell_type": "code",
   "execution_count": 4,
   "metadata": {
    "execution": {
     "iopub.execute_input": "2022-01-26T08:04:49.312621Z",
     "iopub.status.busy": "2022-01-26T08:04:49.311989Z",
     "iopub.status.idle": "2022-01-26T08:04:49.314667Z",
     "shell.execute_reply": "2022-01-26T08:04:49.315026Z"
    },
    "id": "70IBxSKxA1N9"
   },
   "outputs": [
    {
     "name": "stdout",
     "output_type": "stream",
     "text": [
      "Commands: ['stop' 'left' 'no' 'go' 'yes' 'down' 'right' 'up']\n"
     ]
    }
   ],
   "source": [
    "commands = np.array(tf.io.gfile.listdir(str(data_dir)))\n",
    "commands = commands[commands != 'README.md']\n",
    "print('Commands:', commands)"
   ]
  },
  {
   "cell_type": "code",
   "execution_count": 5,
   "metadata": {
    "execution": {
     "iopub.execute_input": "2022-01-26T08:04:49.320460Z",
     "iopub.status.busy": "2022-01-26T08:04:49.319695Z",
     "iopub.status.idle": "2022-01-26T08:04:51.053400Z",
     "shell.execute_reply": "2022-01-26T08:04:51.052878Z"
    },
    "id": "hlX685l1wD9k"
   },
   "outputs": [
    {
     "name": "stdout",
     "output_type": "stream",
     "text": [
      "Number of total examples: 8000\n",
      "Number of examples per label: 1000\n",
      "Example file tensor: tf.Tensor(b'data/mini_speech_commands/yes/db72a474_nohash_0.wav', shape=(), dtype=string)\n"
     ]
    }
   ],
   "source": [
    "filenames = tf.io.gfile.glob(str(data_dir) + '/*/*')\n",
    "filenames = tf.random.shuffle(filenames)\n",
    "num_samples = len(filenames)\n",
    "print('Number of total examples:', num_samples)\n",
    "print('Number of examples per label:',\n",
    "      len(tf.io.gfile.listdir(str(data_dir/commands[0]))))\n",
    "print('Example file tensor:', filenames[0])"
   ]
  },
  {
   "cell_type": "code",
   "execution_count": 6,
   "metadata": {
    "execution": {
     "iopub.execute_input": "2022-01-26T08:04:51.058614Z",
     "iopub.status.busy": "2022-01-26T08:04:51.057996Z",
     "iopub.status.idle": "2022-01-26T08:04:51.062220Z",
     "shell.execute_reply": "2022-01-26T08:04:51.061764Z"
    },
    "id": "Cv_wts-l3KgD"
   },
   "outputs": [
    {
     "name": "stdout",
     "output_type": "stream",
     "text": [
      "Training set size 6400\n",
      "Validation set size 800\n",
      "Test set size 800\n"
     ]
    }
   ],
   "source": [
    "train_files = filenames[:6400]\n",
    "val_files = filenames[6400: 6400 + 800]\n",
    "test_files = filenames[-800:]\n",
    "\n",
    "print('Training set size', len(train_files))\n",
    "print('Validation set size', len(val_files))\n",
    "print('Test set size', len(test_files))"
   ]
  },
  {
   "cell_type": "code",
   "execution_count": 7,
   "metadata": {
    "execution": {
     "iopub.execute_input": "2022-01-26T08:04:51.067167Z",
     "iopub.status.busy": "2022-01-26T08:04:51.066572Z",
     "iopub.status.idle": "2022-01-26T08:04:51.071744Z",
     "shell.execute_reply": "2022-01-26T08:04:51.072134Z"
    },
    "id": "d16bb8416f90"
   },
   "outputs": [
    {
     "data": {
      "text/plain": [
       "TensorShape([13654, 1])"
      ]
     },
     "execution_count": 7,
     "metadata": {},
     "output_type": "execute_result"
    }
   ],
   "source": [
    "test_file = tf.io.read_file(DATASET_PATH+'/down/0a9f9af7_nohash_0.wav')\n",
    "test_audio, _ = tf.audio.decode_wav(contents=test_file)\n",
    "test_audio.shape"
   ]
  },
  {
   "cell_type": "code",
   "execution_count": 8,
   "metadata": {
    "execution": {
     "iopub.execute_input": "2022-01-26T08:04:51.076854Z",
     "iopub.status.busy": "2022-01-26T08:04:51.076218Z",
     "iopub.status.idle": "2022-01-26T08:04:51.077976Z",
     "shell.execute_reply": "2022-01-26T08:04:51.078334Z"
    },
    "id": "9PjJ2iXYwftD"
   },
   "outputs": [],
   "source": [
    "def decode_audio(audio_binary):\n",
    "    # Decode WAV-encoded audio files to `float32` tensors, normalized\n",
    "    # to the [-1.0, 1.0] range. Return `float32` audio and a sample rate.\n",
    "    audio, _ = tf.audio.decode_wav(contents=audio_binary)\n",
    "    # Since all the data is single channel (mono), drop the `channels`\n",
    "    # axis from the array.\n",
    "    return tf.squeeze(audio, axis=-1)"
   ]
  },
  {
   "cell_type": "code",
   "execution_count": 9,
   "metadata": {
    "execution": {
     "iopub.execute_input": "2022-01-26T08:04:51.082722Z",
     "iopub.status.busy": "2022-01-26T08:04:51.082140Z",
     "iopub.status.idle": "2022-01-26T08:04:51.083771Z",
     "shell.execute_reply": "2022-01-26T08:04:51.084169Z"
    },
    "id": "8VTtX1nr3YT-"
   },
   "outputs": [],
   "source": [
    "def get_label(file_path):\n",
    "    parts = tf.strings.split(\n",
    "      input=file_path,\n",
    "      sep=os.path.sep)\n",
    "    # Note: You'll use indexing here instead of tuple unpacking to enable this\n",
    "    # to work in a TensorFlow graph.\n",
    "    return parts[-2]"
   ]
  },
  {
   "cell_type": "code",
   "execution_count": 10,
   "metadata": {
    "execution": {
     "iopub.execute_input": "2022-01-26T08:04:51.088167Z",
     "iopub.status.busy": "2022-01-26T08:04:51.087551Z",
     "iopub.status.idle": "2022-01-26T08:04:51.090110Z",
     "shell.execute_reply": "2022-01-26T08:04:51.089641Z"
    },
    "id": "WdgUD5T93NyT"
   },
   "outputs": [],
   "source": [
    "def get_waveform_and_label(file_path):\n",
    "    label = get_label(file_path)\n",
    "    audio_binary = tf.io.read_file(file_path)\n",
    "    waveform = decode_audio(audio_binary)\n",
    "    return waveform, label"
   ]
  },
  {
   "cell_type": "code",
   "execution_count": 11,
   "metadata": {
    "execution": {
     "iopub.execute_input": "2022-01-26T08:04:51.097251Z",
     "iopub.status.busy": "2022-01-26T08:04:51.096180Z",
     "iopub.status.idle": "2022-01-26T08:04:51.230089Z",
     "shell.execute_reply": "2022-01-26T08:04:51.230527Z"
    },
    "id": "0SQl8yXl3kNP"
   },
   "outputs": [],
   "source": [
    "AUTOTUNE = tf.data.AUTOTUNE\n",
    "\n",
    "files_ds = tf.data.Dataset.from_tensor_slices(train_files)\n",
    "\n",
    "waveform_ds = files_ds.map(\n",
    "    map_func=get_waveform_and_label,\n",
    "    num_parallel_calls=AUTOTUNE)"
   ]
  },
  {
   "cell_type": "code",
   "execution_count": 13,
   "metadata": {
    "execution": {
     "iopub.execute_input": "2022-01-26T08:04:52.093916Z",
     "iopub.status.busy": "2022-01-26T08:04:52.093060Z",
     "iopub.status.idle": "2022-01-26T08:04:52.095594Z",
     "shell.execute_reply": "2022-01-26T08:04:52.095070Z"
    },
    "id": "_4CK75DHz_OR"
   },
   "outputs": [],
   "source": [
    "def get_spectrogram(waveform):\n",
    "    # Zero-padding for an audio waveform with less than 16,000 samples.\n",
    "    input_len = 16000\n",
    "    waveform = waveform[:input_len]\n",
    "    zero_padding = tf.zeros(\n",
    "      [16000] - tf.shape(waveform),\n",
    "      dtype=tf.float32)\n",
    "    # Cast the waveform tensors' dtype to float32.\n",
    "    waveform = tf.cast(waveform, dtype=tf.float32)\n",
    "    # Concatenate the waveform with `zero_padding`, which ensures all audio\n",
    "    # clips are of the same length.\n",
    "    equal_length = tf.concat([waveform, zero_padding], 0)\n",
    "    # Convert the waveform to a spectrogram via a STFT.\n",
    "    spectrogram = tf.signal.stft(\n",
    "      equal_length, frame_length=255, frame_step=128)\n",
    "    # Obtain the magnitude of the STFT.\n",
    "    spectrogram = tf.abs(spectrogram)\n",
    "    # Add a `channels` dimension, so that the spectrogram can be used\n",
    "    # as image-like input data with convolution layers (which expect\n",
    "    # shape (`batch_size`, `height`, `width`, `channels`).\n",
    "    spectrogram = spectrogram[..., tf.newaxis]\n",
    "    return spectrogram"
   ]
  },
  {
   "cell_type": "code",
   "execution_count": 14,
   "metadata": {
    "execution": {
     "iopub.execute_input": "2022-01-26T08:04:52.101770Z",
     "iopub.status.busy": "2022-01-26T08:04:52.100842Z",
     "iopub.status.idle": "2022-01-26T08:04:52.415977Z",
     "shell.execute_reply": "2022-01-26T08:04:52.415446Z"
    },
    "id": "4Mu6Y7Yz3C-V"
   },
   "outputs": [
    {
     "name": "stdout",
     "output_type": "stream",
     "text": [
      "Label: yes\n",
      "Waveform shape: (16000,)\n",
      "Spectrogram shape: (124, 129, 1)\n",
      "Audio playback\n"
     ]
    },
    {
     "data": {
      "text/html": [
       "\n",
       "                <audio  controls=\"controls\" >\n",
       "                    <source src=\"data:audio/wav;base64,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\" type=\"audio/wav\" />\n",
       "                    Your browser does not support the audio element.\n",
       "                </audio>\n",
       "              "
      ],
      "text/plain": [
       "<IPython.lib.display.Audio object>"
      ]
     },
     "metadata": {},
     "output_type": "display_data"
    }
   ],
   "source": [
    "for waveform, label in waveform_ds.take(1):\n",
    "    label = label.numpy().decode('utf-8')\n",
    "    spectrogram = get_spectrogram(waveform)\n",
    "\n",
    "print('Label:', label)\n",
    "print('Waveform shape:', waveform.shape)\n",
    "print('Spectrogram shape:', spectrogram.shape)\n",
    "print('Audio playback')\n",
    "display.display(display.Audio(waveform, rate=16000))"
   ]
  },
  {
   "cell_type": "code",
   "execution_count": 15,
   "metadata": {
    "execution": {
     "iopub.execute_input": "2022-01-26T08:04:52.422463Z",
     "iopub.status.busy": "2022-01-26T08:04:52.421877Z",
     "iopub.status.idle": "2022-01-26T08:04:52.423570Z",
     "shell.execute_reply": "2022-01-26T08:04:52.423981Z"
    },
    "id": "e62jzb36-Jog"
   },
   "outputs": [],
   "source": [
    "def plot_spectrogram(spectrogram, ax):\n",
    "    if len(spectrogram.shape) > 2:\n",
    "    assert len(spectrogram.shape) == 3\n",
    "    spectrogram = np.squeeze(spectrogram, axis=-1)\n",
    "    # Convert the frequencies to log scale and transpose, so that the time is\n",
    "    # represented on the x-axis (columns).\n",
    "    # Add an epsilon to avoid taking a log of zero.\n",
    "    log_spec = np.log(spectrogram.T + np.finfo(float).eps)\n",
    "    height = log_spec.shape[0]\n",
    "    width = log_spec.shape[1]\n",
    "    X = np.linspace(0, np.size(spectrogram), num=width, dtype=int)\n",
    "    Y = range(height)\n",
    "    ax.pcolormesh(X, Y, log_spec)"
   ]
  },
  {
   "cell_type": "code",
   "execution_count": 17,
   "metadata": {
    "execution": {
     "iopub.execute_input": "2022-01-26T08:04:52.700279Z",
     "iopub.status.busy": "2022-01-26T08:04:52.699678Z",
     "iopub.status.idle": "2022-01-26T08:04:52.701942Z",
     "shell.execute_reply": "2022-01-26T08:04:52.701499Z"
    },
    "id": "43IS2IouEV40"
   },
   "outputs": [],
   "source": [
    "def get_spectrogram_and_label_id(audio, label):\n",
    "    spectrogram = get_spectrogram(audio)\n",
    "    label_id = tf.argmax(label == commands)\n",
    "    return spectrogram, label_id"
   ]
  },
  {
   "cell_type": "code",
   "execution_count": 18,
   "metadata": {
    "execution": {
     "iopub.execute_input": "2022-01-26T08:04:52.706832Z",
     "iopub.status.busy": "2022-01-26T08:04:52.706072Z",
     "iopub.status.idle": "2022-01-26T08:04:52.870120Z",
     "shell.execute_reply": "2022-01-26T08:04:52.869507Z"
    },
    "id": "yEVb_oK0oBLQ"
   },
   "outputs": [],
   "source": [
    "spectrogram_ds = waveform_ds.map(\n",
    "  map_func=get_spectrogram_and_label_id,\n",
    "  num_parallel_calls=AUTOTUNE)"
   ]
  },
  {
   "cell_type": "code",
   "execution_count": 20,
   "metadata": {
    "execution": {
     "iopub.execute_input": "2022-01-26T08:04:53.615537Z",
     "iopub.status.busy": "2022-01-26T08:04:53.614754Z",
     "iopub.status.idle": "2022-01-26T08:04:53.617519Z",
     "shell.execute_reply": "2022-01-26T08:04:53.617014Z"
    },
    "id": "10UI32QH_45b"
   },
   "outputs": [],
   "source": [
    "def preprocess_dataset(files):\n",
    "    files_ds = tf.data.Dataset.from_tensor_slices(files)\n",
    "    output_ds = files_ds.map(\n",
    "      map_func=get_waveform_and_label,\n",
    "      num_parallel_calls=AUTOTUNE)\n",
    "    output_ds = output_ds.map(\n",
    "      map_func=get_spectrogram_and_label_id,\n",
    "      num_parallel_calls=AUTOTUNE)\n",
    "    return output_ds"
   ]
  },
  {
   "cell_type": "code",
   "execution_count": 21,
   "metadata": {
    "execution": {
     "iopub.execute_input": "2022-01-26T08:04:53.623176Z",
     "iopub.status.busy": "2022-01-26T08:04:53.622513Z",
     "iopub.status.idle": "2022-01-26T08:04:53.863062Z",
     "shell.execute_reply": "2022-01-26T08:04:53.862454Z"
    },
    "id": "HNv4xwYkB2P6"
   },
   "outputs": [],
   "source": [
    "train_ds = spectrogram_ds\n",
    "val_ds = preprocess_dataset(val_files)\n",
    "test_ds = preprocess_dataset(test_files)"
   ]
  },
  {
   "cell_type": "code",
   "execution_count": 22,
   "metadata": {
    "execution": {
     "iopub.execute_input": "2022-01-26T08:04:53.868951Z",
     "iopub.status.busy": "2022-01-26T08:04:53.868150Z",
     "iopub.status.idle": "2022-01-26T08:04:53.872013Z",
     "shell.execute_reply": "2022-01-26T08:04:53.871372Z"
    },
    "id": "UgY9WYzn61EX"
   },
   "outputs": [],
   "source": [
    "batch_size = 64\n",
    "train_ds = train_ds.batch(batch_size)\n",
    "val_ds = val_ds.batch(batch_size)"
   ]
  },
  {
   "cell_type": "code",
   "execution_count": 23,
   "metadata": {
    "execution": {
     "iopub.execute_input": "2022-01-26T08:04:53.877485Z",
     "iopub.status.busy": "2022-01-26T08:04:53.876594Z",
     "iopub.status.idle": "2022-01-26T08:04:53.879897Z",
     "shell.execute_reply": "2022-01-26T08:04:53.880309Z"
    },
    "id": "fdZ6M-F5_QzY"
   },
   "outputs": [],
   "source": [
    "train_ds = train_ds.cache().prefetch(AUTOTUNE)\n",
    "val_ds = val_ds.cache().prefetch(AUTOTUNE)"
   ]
  },
  {
   "cell_type": "code",
   "execution_count": 24,
   "metadata": {
    "execution": {
     "iopub.execute_input": "2022-01-26T08:04:53.887631Z",
     "iopub.status.busy": "2022-01-26T08:04:53.886952Z",
     "iopub.status.idle": "2022-01-26T08:05:03.266035Z",
     "shell.execute_reply": "2022-01-26T08:05:03.261300Z"
    },
    "id": "ALYz7PFCHblP"
   },
   "outputs": [
    {
     "name": "stdout",
     "output_type": "stream",
     "text": [
      "Input shape: (124, 129, 1)\n",
      "Model: \"sequential\"\n",
      "_________________________________________________________________\n",
      " Layer (type)                Output Shape              Param #   \n",
      "=================================================================\n",
      " resizing (Resizing)         (None, 32, 32, 1)         0         \n",
      "                                                                 \n",
      " normalization (Normalizatio  (None, 32, 32, 1)        3         \n",
      " n)                                                              \n",
      "                                                                 \n",
      " conv2d (Conv2D)             (None, 30, 30, 32)        320       \n",
      "                                                                 \n",
      " conv2d_1 (Conv2D)           (None, 28, 28, 64)        18496     \n",
      "                                                                 \n",
      " max_pooling2d (MaxPooling2D  (None, 14, 14, 64)       0         \n",
      " )                                                               \n",
      "                                                                 \n",
      " dropout (Dropout)           (None, 14, 14, 64)        0         \n",
      "                                                                 \n",
      " flatten (Flatten)           (None, 12544)             0         \n",
      "                                                                 \n",
      " dense (Dense)               (None, 128)               1605760   \n",
      "                                                                 \n",
      " dropout_1 (Dropout)         (None, 128)               0         \n",
      "                                                                 \n",
      " dense_1 (Dense)             (None, 8)                 1032      \n",
      "                                                                 \n",
      "=================================================================\n",
      "Total params: 1,625,611\n",
      "Trainable params: 1,625,608\n",
      "Non-trainable params: 3\n",
      "_________________________________________________________________\n"
     ]
    }
   ],
   "source": [
    "for spectrogram, _ in spectrogram_ds.take(1):\n",
    "    input_shape = spectrogram.shape\n",
    "print('Input shape:', input_shape)\n",
    "num_labels = len(commands)\n",
    "\n",
    "# Instantiate the `tf.keras.layers.Normalization` layer.\n",
    "norm_layer = layers.Normalization()\n",
    "# Fit the state of the layer to the spectrograms\n",
    "# with `Normalization.adapt`.\n",
    "norm_layer.adapt(data=spectrogram_ds.map(map_func=lambda spec, label: spec))\n",
    "\n",
    "model = models.Sequential([\n",
    "    layers.Input(shape=input_shape),\n",
    "    # Downsample the input.\n",
    "    layers.Resizing(32, 32),\n",
    "    # Normalize.\n",
    "    norm_layer,\n",
    "    layers.Conv2D(32, 3, activation='relu'),\n",
    "    layers.Conv2D(64, 3, activation='relu'),\n",
    "    layers.MaxPooling2D(),\n",
    "    layers.Dropout(0.25),\n",
    "    layers.Flatten(),\n",
    "    layers.Dense(128, activation='relu'),\n",
    "    layers.Dropout(0.5),\n",
    "    layers.Dense(num_labels),\n",
    "])\n",
    "\n",
    "model.summary()"
   ]
  },
  {
   "cell_type": "code",
   "execution_count": 25,
   "metadata": {
    "execution": {
     "iopub.execute_input": "2022-01-26T08:05:03.272380Z",
     "iopub.status.busy": "2022-01-26T08:05:03.271757Z",
     "iopub.status.idle": "2022-01-26T08:05:03.281300Z",
     "shell.execute_reply": "2022-01-26T08:05:03.281634Z"
    },
    "id": "wFjj7-EmsTD-"
   },
   "outputs": [],
   "source": [
    "model.compile(\n",
    "    optimizer=tf.keras.optimizers.Adam(),\n",
    "    loss=tf.keras.losses.SparseCategoricalCrossentropy(from_logits=True),\n",
    "    metrics=['accuracy'],\n",
    ")"
   ]
  },
  {
   "cell_type": "code",
   "execution_count": 26,
   "metadata": {
    "execution": {
     "iopub.execute_input": "2022-01-26T08:05:03.286913Z",
     "iopub.status.busy": "2022-01-26T08:05:03.286335Z",
     "iopub.status.idle": "2022-01-26T08:05:14.066442Z",
     "shell.execute_reply": "2022-01-26T08:05:14.066885Z"
    },
    "id": "ttioPJVMcGtq"
   },
   "outputs": [
    {
     "name": "stdout",
     "output_type": "stream",
     "text": [
      "Epoch 1/10\n",
      "100/100 [==============================] - 6s 41ms/step - loss: 1.7503 - accuracy: 0.3630 - val_loss: 1.2850 - val_accuracy: 0.5763\n",
      "Epoch 2/10\n",
      "100/100 [==============================] - 0s 5ms/step - loss: 1.2101 - accuracy: 0.5698 - val_loss: 0.9314 - val_accuracy: 0.6913\n",
      "Epoch 3/10\n",
      "100/100 [==============================] - 0s 5ms/step - loss: 0.9336 - accuracy: 0.6703 - val_loss: 0.7529 - val_accuracy: 0.7325\n",
      "Epoch 4/10\n",
      "100/100 [==============================] - 0s 5ms/step - loss: 0.7503 - accuracy: 0.7397 - val_loss: 0.6721 - val_accuracy: 0.7713\n",
      "Epoch 5/10\n",
      "100/100 [==============================] - 0s 5ms/step - loss: 0.6367 - accuracy: 0.7741 - val_loss: 0.6061 - val_accuracy: 0.7975\n",
      "Epoch 6/10\n",
      "100/100 [==============================] - 0s 5ms/step - loss: 0.5650 - accuracy: 0.7987 - val_loss: 0.5489 - val_accuracy: 0.8125\n",
      "Epoch 7/10\n",
      "100/100 [==============================] - 0s 5ms/step - loss: 0.5099 - accuracy: 0.8183 - val_loss: 0.5344 - val_accuracy: 0.8238\n",
      "Epoch 8/10\n",
      "100/100 [==============================] - 0s 5ms/step - loss: 0.4560 - accuracy: 0.8392 - val_loss: 0.5194 - val_accuracy: 0.8288\n",
      "Epoch 9/10\n",
      "100/100 [==============================] - 0s 5ms/step - loss: 0.4101 - accuracy: 0.8547 - val_loss: 0.4809 - val_accuracy: 0.8388\n",
      "Epoch 10/10\n",
      "100/100 [==============================] - 0s 5ms/step - loss: 0.3905 - accuracy: 0.8589 - val_loss: 0.4973 - val_accuracy: 0.8363\n"
     ]
    }
   ],
   "source": [
    "EPOCHS = 10\n",
    "history = model.fit(\n",
    "    train_ds,\n",
    "    validation_data=val_ds,\n",
    "    epochs=EPOCHS,\n",
    "    callbacks=tf.keras.callbacks.EarlyStopping(verbose=1, patience=2),\n",
    ")"
   ]
  },
  {
   "cell_type": "code",
   "execution_count": 27,
   "metadata": {
    "execution": {
     "iopub.execute_input": "2022-01-26T08:05:14.109776Z",
     "iopub.status.busy": "2022-01-26T08:05:14.088784Z",
     "iopub.status.idle": "2022-01-26T08:05:14.202506Z",
     "shell.execute_reply": "2022-01-26T08:05:14.203379Z"
    },
    "id": "nzhipg3Gu2AY"
   },
   "outputs": [
    {
     "data": {
      "image/png": "[encoded data removed]",
      "text/plain": [
       "<Figure size 432x288 with 1 Axes>"
      ]
     },
     "metadata": {
      "needs_background": "light"
     },
     "output_type": "display_data"
    }
   ],
   "source": [
    "metrics = history.history\n",
    "plt.plot(history.epoch, metrics['loss'], metrics['val_loss'])\n",
    "plt.legend(['loss', 'val_loss'])\n",
    "plt.show()"
   ]
  },
  {
   "cell_type": "code",
   "execution_count": 28,
   "metadata": {
    "execution": {
     "iopub.execute_input": "2022-01-26T08:05:14.211012Z",
     "iopub.status.busy": "2022-01-26T08:05:14.209773Z",
     "iopub.status.idle": "2022-01-26T08:05:14.830928Z",
     "shell.execute_reply": "2022-01-26T08:05:14.830111Z"
    },
    "id": "biU2MwzyAo8o"
   },
   "outputs": [],
   "source": [
    "test_audio = []\n",
    "test_labels = []\n",
    "\n",
    "for audio, label in test_ds:\n",
    "    test_audio.append(audio.numpy())\n",
    "    test_labels.append(label.numpy())\n",
    "\n",
    "test_audio = np.array(test_audio)\n",
    "test_labels = np.array(test_labels)"
   ]
  },
  {
   "cell_type": "code",
   "execution_count": 29,
   "metadata": {
    "execution": {
     "iopub.execute_input": "2022-01-26T08:05:14.893616Z",
     "iopub.status.busy": "2022-01-26T08:05:14.892785Z",
     "iopub.status.idle": "2022-01-26T08:05:15.121509Z",
     "shell.execute_reply": "2022-01-26T08:05:15.120984Z"
    },
    "id": "ktUanr9mRZky"
   },
   "outputs": [
    {
     "name": "stdout",
     "output_type": "stream",
     "text": [
      "Test set accuracy: 85%\n"
     ]
    }
   ],
   "source": [
    "y_pred = np.argmax(model.predict(test_audio), axis=1)\n",
    "y_true = test_labels\n",
    "\n",
    "test_acc = sum(y_pred == y_true) / len(y_true)\n",
    "print(f'Test set accuracy: {test_acc:.0%}')"
   ]
  },
  {
   "cell_type": "code",
   "execution_count": 30,
   "metadata": {
    "execution": {
     "iopub.execute_input": "2022-01-26T08:05:15.127704Z",
     "iopub.status.busy": "2022-01-26T08:05:15.127044Z",
     "iopub.status.idle": "2022-01-26T08:05:15.493895Z",
     "shell.execute_reply": "2022-01-26T08:05:15.493278Z"
    },
    "id": "LvoSAOiXU3lL"
   },
   "outputs": [
    {
     "data": {
      "image/png": "[encoded data removed]",
      "text/plain": [
       "<Figure size 720x576 with 2 Axes>"
      ]
     },
     "metadata": {
      "needs_background": "light"
     },
     "output_type": "display_data"
    }
   ],
   "source": [
    "confusion_mtx = tf.math.confusion_matrix(y_true, y_pred)\n",
    "plt.figure(figsize=(10, 8))\n",
    "sns.heatmap(confusion_mtx,\n",
    "            xticklabels=commands,\n",
    "            yticklabels=commands,\n",
    "            annot=True, fmt='g')\n",
    "plt.xlabel('Prediction')\n",
    "plt.ylabel('Label')\n",
    "plt.show()"
   ]
  }
 ],
 "metadata": {
  "accelerator": "GPU",
  "colab": {
   "collapsed_sections": [],
   "name": "simple_audio.ipynb",
   "toc_visible": true
  },
  "kernelspec": {
   "display_name": "Python 3 (ipykernel)",
   "language": "python",
   "name": "python3"
  },
  "language_info": {
   "codemirror_mode": {
    "name": "ipython",
    "version": 3
   },
   "file_extension": ".py",
   "mimetype": "text/x-python",
   "name": "python",
   "nbconvert_exporter": "python",
   "pygments_lexer": "ipython3",
   "version": "3.7.11"
  }
 },
 "nbformat": 4,
 "nbformat_minor": 1
}
